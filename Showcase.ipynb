{
 "cells": [
  {
   "cell_type": "code",
   "execution_count": 1,
   "metadata": {},
   "outputs": [],
   "source": [
    "from lyrics_reader import EXAMPLE_LYRIC, get_tree_segments_lines_token, get_sentences\n",
    "from ssm_structure import self_similarity_matrix, draw_ssm, string_similarity\n",
    "from summarization import textrank_summary, topicrank_summary, lines_fitness, lyric_thumbnail, textrank_topicrank_summary, textrank_topicrank_fitness_summary\n",
    "from explicit_lyrics_detection import SWEARWORDS_DICTIONARY, predict_explicitness\n",
    "from utils import headline_from"
   ]
  },
  {
   "cell_type": "code",
   "execution_count": 12,
   "metadata": {},
   "outputs": [
    {
     "data": {
      "text/plain": [
       "[\"'cause i'm your lady\",\n",
       " 'and you are my man',\n",
       " 'whenever you reach for me',\n",
       " \"i'll do all that i can\"]"
      ]
     },
     "execution_count": 12,
     "metadata": {},
     "output_type": "execute_result"
    }
   ],
   "source": [
    "# parse example lyric\n",
    "tree, segments, lines, token = get_tree_segments_lines_token(EXAMPLE_LYRIC)\n",
    "\n",
    "lines[8:12]"
   ]
  },
  {
   "cell_type": "code",
   "execution_count": 16,
   "metadata": {},
   "outputs": [
    {
     "name": "stdout",
     "output_type": "stream",
     "text": [
      "[[1.         0.25       0.23364486 0.26724138 0.24074074 0.23364486\n",
      "  0.24390244 0.28037383 0.20560748 0.24390244 0.30841121 0.29906542]\n",
      " [0.25       1.         0.35714286 0.21551724 0.21428571 0.35714286\n",
      "  0.26829268 0.25       0.34821429 0.26829268 0.28571429 0.3125    ]\n",
      " [0.23364486 0.35714286 1.         0.31896552 0.28703704 1.\n",
      "  0.27642276 0.28571429 0.92473118 0.27642276 0.25714286 0.22727273]\n",
      " [0.26724138 0.21551724 0.31896552 1.         0.20689655 0.31896552\n",
      "  0.22764228 0.23275862 0.31896552 0.22764228 0.24137931 0.25      ]\n",
      " [0.24074074 0.21428571 0.28703704 0.20689655 1.         0.28703704\n",
      "  0.25203252 0.25       0.26851852 0.25203252 0.22222222 0.25      ]\n",
      " [0.23364486 0.35714286 1.         0.31896552 0.28703704 1.\n",
      "  0.27642276 0.28571429 0.92473118 0.27642276 0.25714286 0.22727273]\n",
      " [0.24390244 0.26829268 0.27642276 0.22764228 0.25203252 0.27642276\n",
      "  1.         0.25203252 0.29268293 1.         0.70731707 0.46341463]\n",
      " [0.28037383 0.25       0.28571429 0.23275862 0.25       0.28571429\n",
      "  0.25203252 1.         0.2952381  0.25203252 0.24761905 0.2952381 ]\n",
      " [0.20560748 0.34821429 0.92473118 0.31896552 0.26851852 0.92473118\n",
      "  0.29268293 0.2952381  1.         0.29268293 0.24761905 0.23655914]\n",
      " [0.24390244 0.26829268 0.27642276 0.22764228 0.25203252 0.27642276\n",
      "  1.         0.25203252 0.29268293 1.         0.70731707 0.46341463]\n",
      " [0.30841121 0.28571429 0.25714286 0.24137931 0.22222222 0.25714286\n",
      "  0.70731707 0.24761905 0.24761905 0.70731707 1.         0.63809524]\n",
      " [0.29906542 0.3125     0.22727273 0.25       0.25       0.22727273\n",
      "  0.46341463 0.2952381  0.23655914 0.46341463 0.63809524 1.        ]]\n"
     ]
    },
    {
     "data": {
      "image/png": "[encoded data removed]",
      "text/plain": [
       "<Figure size 432x288 with 2 Axes>"
      ]
     },
     "metadata": {
      "needs_background": "light"
     },
     "output_type": "display_data"
    },
    {
     "data": {
      "image/png": "[encoded data removed]",
      "text/plain": [
       "<Figure size 432x288 with 2 Axes>"
      ]
     },
     "metadata": {
      "needs_background": "light"
     },
     "output_type": "display_data"
    }
   ],
   "source": [
    "def showcase_structure():\n",
    "    \"\"\"Shows self-similarity matrices (SSM) where entry (i,j) is the similarity between elements i and j.\"\"\"\n",
    "    # Structure of segments\n",
    "    ssm_segments = self_similarity_matrix(segments, string_similarity)\n",
    "    print(ssm_segments)\n",
    "    draw_ssm(ssm_segments)\n",
    "    # Structure of lines\n",
    "    ssm_lines = self_similarity_matrix(lines, string_similarity)\n",
    "    draw_ssm(ssm_lines)\n",
    "\n",
    "showcase_structure()"
   ]
  },
  {
   "cell_type": "code",
   "execution_count": 18,
   "metadata": {},
   "outputs": [
    {
     "name": "stdout",
     "output_type": "stream",
     "text": [
      "TextRank summary of length 7\n",
      "----------------------------\n",
      "'cause i'm your lady\n",
      "lost is how i'm feeling\n",
      "that all ends when i'm with you\n",
      "'cause i am always by your side\n",
      "the feeling that i can't go on\n",
      "i'm gonna do all that i can\n",
      "'cause i'm ready to learn\n",
      "\n",
      "TopSum summary of length 7\n",
      "--------------------------\n",
      "the whispers in the morning\n",
      "of lovers sleeping tight\n",
      "and feel each move you make\n",
      "and you are my man\n",
      "lying in your arms\n",
      "we're heading for something\n",
      "somewhere i've never been\n",
      "\n",
      "TextRank + TopSum summary of length 7\n",
      "-------------------------------------\n",
      "i hold on to your body\n",
      "a love that i could not forsake\n",
      "'cause i'm your lady\n",
      "lost is how i'm feeling\n",
      "that all ends when i'm with you\n",
      "'cause i am always by your side\n",
      "the feeling that i can't go on\n",
      "\n",
      "TextRank + TopSum + Lyric Thumbnail summary of length 7\n",
      "-------------------------------------------------------\n",
      "as i look in your eyes\n",
      "i hold on to your body\n",
      "a love that i could not forsake\n",
      "lost is how i'm feeling\n",
      "that all ends when i'm with you\n",
      "'cause i am always by your side\n",
      "the feeling that i can't go on\n",
      "\n"
     ]
    }
   ],
   "source": [
    "def showcase_summaries():\n",
    "    def print_summary(method: str, lines):\n",
    "        print(headline_from(method + ' summary of length ' + str(len(lines))))\n",
    "        for line in lines:\n",
    "            print(line)\n",
    "        print()\n",
    "    SUMMARY_LENGTH = 7\n",
    "    print_summary(method='TextRank', lines=textrank_summary(lines, SUMMARY_LENGTH))\n",
    "    print_summary(method='TopSum', lines=topicrank_summary(lines, SUMMARY_LENGTH))\n",
    "    print_summary(method='TextRank + TopSum', lines=textrank_topicrank_summary(EXAMPLE_LYRIC, SUMMARY_LENGTH))\n",
    "    print_summary(method='TextRank + TopSum + Lyric Thumbnail', lines=textrank_topicrank_fitness_summary(EXAMPLE_LYRIC, SUMMARY_LENGTH))\n",
    "\n",
    "showcase_summaries()    "
   ]
  },
  {
   "cell_type": "code",
   "execution_count": 20,
   "metadata": {},
   "outputs": [
    {
     "name": "stdout",
     "output_type": "stream",
     "text": [
      "Predicting explicitness of lyric based on swear word dictionary:\n",
      "----------------------------------------------------------------\n",
      "Example lyric is NOT explicit\n"
     ]
    }
   ],
   "source": [
    "def showcase_explicitness():\n",
    "    print(headline_from('Predicting explicitness of lyric based on swear word dictionary:'))\n",
    "    print('Example lyric is', predict_explicitness(EXAMPLE_LYRIC))\n",
    "\n",
    "showcase_explicitness()"
   ]
  }
 ],
 "metadata": {
  "kernelspec": {
   "display_name": "Python 3",
   "language": "python",
   "name": "python3"
  },
  "language_info": {
   "codemirror_mode": {
    "name": "ipython",
    "version": 3
   },
   "file_extension": ".py",
   "mimetype": "text/x-python",
   "name": "python",
   "nbconvert_exporter": "python",
   "pygments_lexer": "ipython3",
   "version": "3.6.2"
  }
 },
 "nbformat": 4,
 "nbformat_minor": 2
}
