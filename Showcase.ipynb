{
 "cells": [
  {
   "cell_type": "code",
   "execution_count": 1,
   "metadata": {},
   "outputs": [],
   "source": [
    "from lyrics_reader import EXAMPLE_LYRIC, get_tree_segments_lines_token, get_sentences\n",
    "from utils import self_similarity_matrix, string_similarity\n",
    "from summarization import textrank_summary, topicrank_summary, lines_fitness, lyric_thumbnail, textrank_topicrank_summary, textrank_topicrank_fitness_summary\n",
    "from utils import headline_from"
   ]
  },
  {
   "cell_type": "code",
   "execution_count": 2,
   "metadata": {},
   "outputs": [
    {
     "data": {
      "text/plain": [
       "[\"'cause i'm your lady\",\n",
       " 'and you are my man',\n",
       " 'whenever you reach for me',\n",
       " \"i'll do all that i can\",\n",
       " \"lost is how i'm feeling\",\n",
       " 'lying in your arms',\n",
       " \"when the world outside's too much to take\"]"
      ]
     },
     "execution_count": 2,
     "metadata": {},
     "output_type": "execute_result"
    }
   ],
   "source": [
    "### Parse example lyric\n",
    "tree, segments, lines, token = get_tree_segments_lines_token(EXAMPLE_LYRIC)\n",
    "\n",
    "lines[8:15]"
   ]
  },
  {
   "cell_type": "code",
   "execution_count": 3,
   "metadata": {},
   "outputs": [
    {
     "name": "stdout",
     "output_type": "stream",
     "text": [
      "TextRank summary of length 7\n",
      "----------------------------\n",
      "'cause i'm your lady\n",
      "lost is how i'm feeling\n",
      "that all ends when i'm with you\n",
      "'cause i am always by your side\n",
      "the feeling that i can't go on\n",
      "i'm gonna do all that i can\n",
      "'cause i'm ready to learn\n",
      "\n",
      "\n",
      "TopSum summary of length 7\n",
      "--------------------------\n",
      "of lovers sleeping tight\n",
      "i hold on to your body\n",
      "and feel each move you make\n",
      "lying in your arms\n",
      "we're heading for something\n",
      "the power of love\n",
      "ooh, ooh, ooh\n",
      "\n",
      "\n",
      "TextRank + TopSum summary of length 7\n",
      "-------------------------------------\n",
      "i hold on to your body\n",
      "a love that i could not forsake\n",
      "i'll do all that i can\n",
      "lost is how i'm feeling\n",
      "'cause i am always by your side\n",
      "the sound of your heart beating\n",
      "the feeling that i can't go on\n",
      "\n",
      "\n",
      "TextRank + TopSum + Lyric Thumbnail summary of length 7\n",
      "-------------------------------------------------------\n",
      "i hold on to your body\n",
      "a love that i could not forsake\n",
      "lost is how i'm feeling\n",
      "'cause i am always by your side\n",
      "the sound of your heart beating\n",
      "the feeling that i can't go on\n",
      "i'm gonna do all that i can\n",
      "\n",
      "\n"
     ]
    }
   ],
   "source": [
    "def showcase_summaries():\n",
    "    def print_summary(method: str, lines):\n",
    "        print(headline_from(method + ' summary of length ' + str(len(lines))))\n",
    "        for line in lines:\n",
    "            print(line)\n",
    "        print('\\n')\n",
    "    SUMMARY_LENGTH = 7\n",
    "    print_summary(method='TextRank', lines=textrank_summary(lines, SUMMARY_LENGTH))\n",
    "    print_summary(method='TopSum', lines=topicrank_summary(lines, SUMMARY_LENGTH))\n",
    "    print_summary(method='TextRank + TopSum', lines=textrank_topicrank_summary(EXAMPLE_LYRIC, SUMMARY_LENGTH))\n",
    "    print_summary(method='TextRank + TopSum + Lyric Thumbnail', lines=textrank_topicrank_fitness_summary(EXAMPLE_LYRIC, SUMMARY_LENGTH))\n",
    "\n",
    "showcase_summaries()    "
   ]
  }
 ],
 "metadata": {
  "kernelspec": {
   "display_name": "Python 3",
   "language": "python",
   "name": "python3"
  },
  "language_info": {
   "codemirror_mode": {
    "name": "ipython",
    "version": 3
   },
   "file_extension": ".py",
   "mimetype": "text/x-python",
   "name": "python",
   "nbconvert_exporter": "python",
   "pygments_lexer": "ipython3",
   "version": "3.6.2"
  }
 },
 "nbformat": 4,
 "nbformat_minor": 2
}
